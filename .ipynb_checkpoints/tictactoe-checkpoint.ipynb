{
 "cells": [
  {
   "cell_type": "code",
   "execution_count": 1,
   "metadata": {},
   "outputs": [],
   "source": [
    "#step 1\n",
    "from IPython.display import clear_output\n",
    "def print_board(board):\n",
    "    clear_output()\n",
    "    print(board[7]+\" | \",board[8]+\" | \",board[9])\n",
    "    print(\"--|----|---\")\n",
    "    print(board[4]+\" | \",board[5]+\" | \",board[6])\n",
    "    print(\"--|----|---\")\n",
    "    print(board[1]+\" | \",board[2]+\" | \",board[3])\n",
    "def show():\n",
    "    print (\"The board setup looks like this \\n\")\n",
    "    \n",
    "    print(\"1\"+\" | \",\"2\"+\" | \",\"3\")\n",
    "    print(\"--|----|---\")\n",
    "    print(\"4\"+\" | \",\"5\"+\" | \",\"6\")\n",
    "    print(\"--|----|---\")\n",
    "    print(\"7\"+\" | \",\"8\"+\" | \",\"9\")"
   ]
  },
  {
   "cell_type": "code",
   "execution_count": 2,
   "metadata": {},
   "outputs": [],
   "source": [
    "#step 2\n",
    "def player_input():\n",
    "    '''\n",
    "    returns the marker in tuple format\n",
    "    (player1, player2)\n",
    "    '''\n",
    "    marker = \" \"\n",
    "    while marker != \"X\" and marker != \"O\":\n",
    "        marker = input(\"player1 enter your marker \").upper()        \n",
    "    if marker == \"X\":\n",
    "        return (\"X\",\"O\")\n",
    "    else:\n",
    "        return (\"O\",\"X\")"
   ]
  },
  {
   "cell_type": "code",
   "execution_count": 3,
   "metadata": {},
   "outputs": [],
   "source": [
    "#step 3\n",
    "def place_marker(board,marker,position):\n",
    "    board[position] = marker\n"
   ]
  },
  {
   "cell_type": "code",
   "execution_count": 4,
   "metadata": {},
   "outputs": [],
   "source": [
    "#step 4\n",
    "def win_check(board,mark):\n",
    "    return ((board[1] == mark and board [2] == mark and board[3] == mark) or #row\n",
    "    (board[4] == mark and board [5] == mark and board[6] == mark) or #row\n",
    "    (board[7] == mark and board [8] == mark and board[9] == mark) or #row\n",
    "    (board[1] == mark and board [4] == mark and board[7] == mark) or #column   \n",
    "    (board[2] == mark and board [5] == mark and board[8] == mark) or #column\n",
    "    (board[3] == mark and board [6] == mark and board[9] == mark) or #column\n",
    "    (board[1] == mark and board [5] == mark and board[9] == mark) or #diagonal\n",
    "    (board[3] == mark and board [5] == mark and board[7] == mark))  #diagonal\n",
    "     "
   ]
  },
  {
   "cell_type": "code",
   "execution_count": 5,
   "metadata": {},
   "outputs": [],
   "source": [
    "#step 5\n",
    "import random\n",
    "def choose_first():\n",
    "    flip = random.randint(0,1)\n",
    "    if flip == 0:\n",
    "        return 'player1'\n",
    "    if flip == 1:\n",
    "        return 'player2'"
   ]
  },
  {
   "cell_type": "code",
   "execution_count": 6,
   "metadata": {},
   "outputs": [],
   "source": [
    "#step 6\n",
    "def space_check(board,position):\n",
    "    return board[position] == \" \""
   ]
  },
  {
   "cell_type": "code",
   "execution_count": 7,
   "metadata": {},
   "outputs": [],
   "source": [
    "#step 7\n",
    "def full_board_check(board):\n",
    "    for i in range(1,10):\n",
    "        if space_check(board,i):\n",
    "            return False\n",
    "    return True\n",
    "    "
   ]
  },
  {
   "cell_type": "code",
   "execution_count": 8,
   "metadata": {},
   "outputs": [],
   "source": [
    "#step 8\n",
    "def player_choice(board):\n",
    "    position = 0\n",
    "    while position not in [1,2,3,4,5,6,7,8,9] or not space_check(board,position):\n",
    "        position = int(input(\"enter the position: (1 ,9)\"))\n",
    "    return position\n"
   ]
  },
  {
   "cell_type": "code",
   "execution_count": 9,
   "metadata": {},
   "outputs": [],
   "source": [
    "#step 9\n",
    "def replay():\n",
    "    choice = input(\"play again Yes or No \")\n",
    "    return choice == 'Yes'\n",
    "    "
   ]
  },
  {
   "cell_type": "code",
   "execution_count": null,
   "metadata": {
    "scrolled": true
   },
   "outputs": [
    {
     "name": "stdout",
     "output_type": "stream",
     "text": [
      "X |    |  O\n",
      "--|----|---\n",
      "O |  O |   \n",
      "--|----|---\n",
      "X |  X |  X\n",
      " player1 has won the game\n"
     ]
    }
   ],
   "source": [
    "while True:\n",
    "    the_board = [\" \"] * 10\n",
    "    player1_marker,player2_marker = player_input()\n",
    "    turn = choose_first()\n",
    "    print(turn +\"will go frist\")\n",
    "    ready = input(\"ready to play y or n \")\n",
    "    if ready == \"y\":\n",
    "        game_on = True\n",
    "    else:\n",
    "        game_on = False\n",
    "    while game_on:      \n",
    "        if turn  == \"player1\":\n",
    "            #show the board \n",
    "            print_board(the_board)\n",
    "            #choose the position\n",
    "            position = player_choice(the_board)\n",
    "            #place the marker on the board \n",
    "            place_marker(the_board,player1_marker,position)\n",
    "            #check if they won\n",
    "            if win_check(the_board,player1_marker):\n",
    "                print_board(the_board)\n",
    "                print(\" player1 has won the game\")\n",
    "                game_on = False\n",
    "            # or check if there is tie\n",
    "            else:\n",
    "                if full_board_check(the_board):\n",
    "                    print_board(the_board)\n",
    "                    print(\"Tie game\")\n",
    "                    game_on = False\n",
    "                else:\n",
    "                    turn = \"player2\"\n",
    "\n",
    "            \n",
    "        else:\n",
    "            #show the board \n",
    "            print_board(the_board)\n",
    "            #choose the position\n",
    "            position = player_choice(the_board)\n",
    "            #place the marker on the board \n",
    "            place_marker(the_board,player2_marker,position)\n",
    "            #check if they won\n",
    "            if win_check(the_board,player2_marker):\n",
    "                print_board(the_board)\n",
    "                print(\" player2 has won the game\")\n",
    "                game_on = False\n",
    "            # or check if there is tie\n",
    "            else:\n",
    "                \n",
    "                if full_board_check(the_board):\n",
    "                    print_board(the_board)\n",
    "                    print(\"Tie game\")\n",
    "                    game_on = False\n",
    "                else:\n",
    "                    turn = \"player1\"\n",
    "\n",
    "    if not replay():\n",
    "        break "
   ]
  },
  {
   "cell_type": "code",
   "execution_count": null,
   "metadata": {},
   "outputs": [],
   "source": []
  }
 ],
 "metadata": {
  "kernelspec": {
   "display_name": "Python 3",
   "language": "python",
   "name": "python3"
  },
  "language_info": {
   "codemirror_mode": {
    "name": "ipython",
    "version": 3
   },
   "file_extension": ".py",
   "mimetype": "text/x-python",
   "name": "python",
   "nbconvert_exporter": "python",
   "pygments_lexer": "ipython3",
   "version": "3.7.6"
  }
 },
 "nbformat": 4,
 "nbformat_minor": 4
}
